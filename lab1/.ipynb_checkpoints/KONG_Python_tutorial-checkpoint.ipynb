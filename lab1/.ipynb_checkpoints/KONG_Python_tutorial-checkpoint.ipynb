{
 "cells": [
  {
   "cell_type": "code",
   "execution_count": 65,
   "id": "92a28057",
   "metadata": {},
   "outputs": [],
   "source": [
    "# Problem 1\n",
    "def nth_Leibniz_prob1(n):\n",
    "    res = 0\n",
    "    for k in range(n):\n",
    "        res += ((-1)**k)/(2*k+1)\n",
    "    return res"
   ]
  },
  {
   "cell_type": "code",
   "execution_count": 66,
   "id": "0e2435a1",
   "metadata": {},
   "outputs": [],
   "source": [
    "# Problem 2\n",
    "\n",
    "# for-loop with if-statement\n",
    "def nth_Leibniz_prob2a(n):\n",
    "    res = 0\n",
    "    for k in range(n):\n",
    "        res += 1/(2*k+1) if k%2 == 0 else -1/(2*k+1)\n",
    "    return res\n",
    "\n",
    "# for-loop with ** - same as the result of Problem 1\n",
    "def nth_Leibniz_prob2b(n):\n",
    "    res = 0\n",
    "    for k in range(n):\n",
    "        res += ((-1)**k)/(2*k+1)\n",
    "    return res\n",
    "\n",
    "# Python list with sum\n",
    "def nth_Leibniz_prob2c(n):\n",
    "    reslist = [((-1)**k)/(2*k+1) for k in range(n)]\n",
    "    return sum(reslist)\n",
    "\n",
    "# Python set with sum\n",
    "def nth_Leibniz_prob2d(n):\n",
    "    reslist = {((-1)**k)/(2*k+1) for k in range(n)}\n",
    "    return sum(reslist)\n",
    "\n",
    "# Python dictionary with sum\n",
    "def nth_Leibniz_prob2e(n):\n",
    "    reslist = {k:((-1)**k)/(2*k+1) for k in range(n)}\n",
    "    return sum(reslist.values())\n",
    "\n",
    "# NumPy array with sum\n",
    "import numpy as np\n",
    "def nth_Leibniz_prob2f(n):\n",
    "    reslist = np.array([((-1)**k)/(2*k+1) for k in range(n)])\n",
    "    return np.sum(reslist)\n",
    "\n",
    "# NumPy array with sum of positives add sum of negatives\n",
    "def nth_Leibniz_prob2g(n):\n",
    "    reslist = np.array([((-1)**k)/(2*k+1) for k in range(n)])\n",
    "    sumpos = np.sum(reslist[reslist > 0])\n",
    "    sumneg = np.sum(reslist[reslist < 0])\n",
    "    return sumpos + sumneg  \n",
    "\n",
    "# Sum of 1st-2nd, 3rd-4th, ...\n",
    "def nth_Leibniz_prob2j(n):\n",
    "    res = 0\n",
    "    for k in range(0,n//2*2,2):\n",
    "        # 1/(2k+1) - 1/[2(k+1)+1] = 2/[(2k+1)(2k+3)]\n",
    "        res += 2/((2*k+1)*(2*k+3))\n",
    "    if n%2 == 1:\n",
    "        res += 1/(2*n-1)\n",
    "    return res"
   ]
  },
  {
   "cell_type": "code",
   "execution_count": 68,
   "id": "42a26458",
   "metadata": {},
   "outputs": [
    {
     "name": "stdout",
     "output_type": "stream",
     "text": [
      "With n = 100000\n",
      "\t prob2a has an error of 1.0000000073e-05 and a running time of 0.031913 seconds\n",
      "\t prob2b has an error of 1.0000000073e-05 and a running time of 0.056848 seconds\n",
      "\t prob2c has an error of 1.0000000073e-05 and a running time of 0.046875 seconds\n",
      "\t prob2d has an error of 1.0000000001e-05 and a running time of 0.097740 seconds\n",
      "\t prob2e has an error of 1.0000000073e-05 and a running time of 0.051861 seconds\n",
      "\t prob2f has an error of 1.0000000001e-05 and a running time of 0.043882 seconds\n",
      "\t prob2g has an error of 1.0000000003e-05 and a running time of 0.046877 seconds\n",
      "\t prob2j has an error of 9.9999999708e-06 and a running time of 0.009971 seconds\n"
     ]
    }
   ],
   "source": [
    "# Problem 3\n",
    "import time\n",
    "PI = np.pi\n",
    "N = 10**5\n",
    "\n",
    "def analysis(func, funcname):\n",
    "    startTime = time.time()\n",
    "    leibnizPI = func(N) * 4\n",
    "    runTime = time.time() - startTime\n",
    "    err = abs(PI-leibnizPI)\n",
    "    \n",
    "    res = '%s has an error of %.10e and a running time of %.6f seconds'%(funcname, err, runTime)\n",
    "    \n",
    "    return res\n",
    "\n",
    "print('With n = %d'%N)\n",
    "print('\\t',analysis(nth_Leibniz_prob2a, 'prob2a'))\n",
    "print('\\t',analysis(nth_Leibniz_prob2b, 'prob2b'))\n",
    "print('\\t',analysis(nth_Leibniz_prob2c, 'prob2c'))\n",
    "print('\\t',analysis(nth_Leibniz_prob2d, 'prob2d'))\n",
    "print('\\t',analysis(nth_Leibniz_prob2e, 'prob2e'))\n",
    "print('\\t',analysis(nth_Leibniz_prob2f, 'prob2f'))\n",
    "print('\\t',analysis(nth_Leibniz_prob2g, 'prob2g'))\n",
    "print('\\t',analysis(nth_Leibniz_prob2j, 'prob2j'))"
   ]
  },
  {
   "cell_type": "markdown",
   "id": "5ac72bce",
   "metadata": {},
   "source": [
    "##### Problem 3 Analysis\n",
    "\n",
    "From the results, `2j` is the fastest and the most accurate implementation.\\\n",
    "From my view, `2b` is the clearest implementation, which directly reflects the mathematical function.\\\n",
    "I will use `2j` to calculate because of its accuracy and efficiency. "
   ]
  },
  {
   "cell_type": "code",
   "execution_count": 86,
   "id": "60f12a37",
   "metadata": {},
   "outputs": [
    {
     "data": {
      "image/png": "[encoded data removed]",
      "text/plain": [
       "<Figure size 320x240 with 1 Axes>"
      ]
     },
     "metadata": {
      "needs_background": "light"
     },
     "output_type": "display_data"
    }
   ],
   "source": [
    "# Problem 4\n",
    "import matplotlib.pyplot as plt\n",
    "import os \n",
    "os.environ[\"KMP_DUPLICATE_LIB_OK\"]=\"TRUE\"\n",
    "\n",
    "ns = list(range(1,10**5,100))\n",
    "diffs = []\n",
    "\n",
    "for n in ns:\n",
    "    diffs.append(abs(nth_Leibniz_prob2j(n) - nth_Leibniz_prob2j(n+1)))\n",
    "\n",
    "plt.figure(figsize=(4,3), dpi = 80)\n",
    "plt.loglog(ns,diffs)\n",
    "plt.xlabel('n')\n",
    "plt.ylabel('difference')\n",
    "plt.title('Difference between sum of nth and (n+1)th Leibniz value')\n",
    "plt.show()"
   ]
  },
  {
   "cell_type": "markdown",
   "id": "b73391bb",
   "metadata": {},
   "source": [
    "##### Problem 5\n",
    "\n",
    "If implementing with Matlab, I will not use array to store the values, because appending elements into an array requires extra running times in Matlab. Instead, I will only use a for-loop to calculate, even though the accuracy drops."
   ]
  }
 ],
 "metadata": {
  "kernelspec": {
   "display_name": "Python 3 (ipykernel)",
   "language": "python",
   "name": "python3"
  },
  "language_info": {
   "codemirror_mode": {
    "name": "ipython",
    "version": 3
   },
   "file_extension": ".py",
   "mimetype": "text/x-python",
   "name": "python",
   "nbconvert_exporter": "python",
   "pygments_lexer": "ipython3",
   "version": "3.9.7"
  }
 },
 "nbformat": 4,
 "nbformat_minor": 5
}
