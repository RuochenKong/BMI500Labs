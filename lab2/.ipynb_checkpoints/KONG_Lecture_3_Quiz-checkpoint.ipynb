{
 "cells": [
  {
   "cell_type": "markdown",
   "id": "c7d9ee8d",
   "metadata": {},
   "source": [
    "# Problem 1\n",
    "`What is the difference between a pandas Series and a DataFrame?`\n",
    "\n",
    "Series is kind of a pandas version of a 1D array, while DataFrame is a collection of Series.\n",
    "Series stores a list of values in one attribute, while DataFrame has several columns to serve with different attributes."
   ]
  },
  {
   "cell_type": "markdown",
   "id": "52c810bd",
   "metadata": {},
   "source": [
    "# Problem 2"
   ]
  },
  {
   "cell_type": "code",
   "execution_count": 1,
   "id": "bc9c78fd",
   "metadata": {},
   "outputs": [
    {
     "name": "stdout",
     "output_type": "stream",
     "text": [
      "--- Sample DataFrame ---\n",
      "   width  height  size\n",
      "a      5      24   120\n",
      "b     10      30   300\n",
      "c     15      36   540\n",
      "d     20      42   840\n",
      "e     25      48  1200\n",
      "f     25      48  1200 \n",
      "\n",
      "--- Statistic Summary ---\n",
      "           width     height         size\n",
      "count   6.000000   6.000000     6.000000\n",
      "mean   16.666667  38.000000   700.000000\n",
      "std     8.164966   9.797959   456.420858\n",
      "min     5.000000  24.000000   120.000000\n",
      "25%    11.250000  31.500000   360.000000\n",
      "50%    17.500000  39.000000   690.000000\n",
      "75%    23.750000  46.500000  1110.000000\n",
      "max    25.000000  48.000000  1200.000000\n"
     ]
    }
   ],
   "source": [
    "import pandas as pd\n",
    "\n",
    "data = {'width':[(i+1)*5 for i in range(5)], 'height':[(i+4)*6 for i in range(5)]}\n",
    "data['width'].append(data['width'][-1])\n",
    "data['height'].append(data['height'][-1])\n",
    "data['size'] = [w*h for w,h in zip(data['width'],data['height'])]\n",
    "sampleDf = pd.DataFrame(data, index = [chr(i+97) for i in range(6)])\n",
    "\n",
    "print('--- Sample DataFrame ---')\n",
    "print(sampleDf,'\\n')\n",
    "print('--- Statistic Summary ---')\n",
    "print(sampleDf.describe())"
   ]
  },
  {
   "cell_type": "markdown",
   "id": "d2c6fbbb",
   "metadata": {},
   "source": [
    "# Problem 3"
   ]
  },
  {
   "cell_type": "code",
   "execution_count": 2,
   "id": "482f057a",
   "metadata": {},
   "outputs": [
    {
     "name": "stdout",
     "output_type": "stream",
     "text": [
      "With '.' -- Select the whole column\n",
      "\n",
      "Example: sampleDf.width\n",
      "a     5\n",
      "b    10\n",
      "c    15\n",
      "d    20\n",
      "e    25\n",
      "f    25\n",
      "Name: width, dtype: int64\n",
      "\n",
      "----------------------------------------\n",
      "\n",
      "With [] -- Select columns or rows\n",
      "\n",
      "Example: sampleDf[['width','size']]\n",
      "   width  size\n",
      "a      5   120\n",
      "b     10   300\n",
      "c     15   540\n",
      "d     20   840\n",
      "e     25  1200\n",
      "f     25  1200\n",
      "\n",
      "Example: sampleDf[3:5]\n",
      "   width  height  size\n",
      "d     20      42   840\n",
      "e     25      48  1200\n",
      "\n",
      "Example: sampleDf['b':'d']\n",
      "   width  height  size\n",
      "b     10      30   300\n",
      "c     15      36   540\n",
      "d     20      42   840\n",
      "\n",
      "----------------------------------------\n",
      "\n",
      "With 'iloc' -- Select by index number\n",
      "\n",
      "Example: sampleDf.iloc[1:3,:2]\n",
      "   width  height\n",
      "b     10      30\n",
      "c     15      36\n",
      "\n",
      "----------------------------------------\n",
      "\n",
      "With 'loc' -- Select by name\n",
      "\n",
      "Example: sampleDf.loc['b':'f':2,'height':'size']\n",
      "   height  size\n",
      "b      30   300\n",
      "d      42   840\n",
      "f      48  1200\n"
     ]
    }
   ],
   "source": [
    "print('With \\'.\\' -- Select the whole column\\n')\n",
    "print('Example: sampleDf.width')\n",
    "print(sampleDf.width)\n",
    "\n",
    "print('\\n'+'-'*40+'\\n')\n",
    "print('With [] -- Select columns or rows\\n')\n",
    "print('Example: sampleDf[[\\'width\\',\\'size\\']]')\n",
    "print(sampleDf[['width','size']])\n",
    "print('\\nExample: sampleDf[3:5]')\n",
    "print(sampleDf[3:5])\n",
    "print('\\nExample: sampleDf[\\'b\\':\\'d\\']')\n",
    "print(sampleDf['b':'d'])\n",
    "\n",
    "print('\\n'+'-'*40+'\\n')\n",
    "print('With \\'iloc\\' -- Select by index number\\n')\n",
    "print('Example: sampleDf.iloc[1:3,:2]')\n",
    "print(sampleDf.iloc[1:3,:2])\n",
    "\n",
    "print('\\n'+'-'*40+'\\n')\n",
    "print('With \\'loc\\' -- Select by name')\n",
    "print('\\nExample: sampleDf.loc[\\'b\\':\\'f\\':2,\\'height\\':\\'size\\']')\n",
    "print(sampleDf.loc['b':'f':2,'height':'size'])\n"
   ]
  },
  {
   "cell_type": "markdown",
   "id": "20a90d8d",
   "metadata": {},
   "source": [
    "# Problem 4\n",
    "`What is sorting for categorical variables in pandas DataFrame based on?`\n",
    "\n",
    "It's based on the order provided when defining a Pandas Categorical"
   ]
  },
  {
   "cell_type": "markdown",
   "id": "4faa3035",
   "metadata": {},
   "source": [
    "# Problem 5"
   ]
  },
  {
   "cell_type": "code",
   "execution_count": 16,
   "id": "60d910ef",
   "metadata": {},
   "outputs": [
    {
     "data": {
      "text/plain": [
       "<matplotlib.legend.Legend at 0x1f0e48de760>"
      ]
     },
     "execution_count": 16,
     "metadata": {},
     "output_type": "execute_result"
    },
    {
     "data": {
      "image/png": "[encoded data removed]",
      "text/plain": [
       "<Figure size 432x288 with 1 Axes>"
      ]
     },
     "metadata": {
      "needs_background": "light"
     },
     "output_type": "display_data"
    }
   ],
   "source": [
    "import matplotlib.pyplot as plt\n",
    "import numpy as np\n",
    "\n",
    "randSampleDf = pd.DataFrame(np.random.rand(5,3), columns = ['Column %d'%i for i in range(1,4)])\n",
    "randSampleDf.cumsum()\n",
    "plt.plot(randSampleDf.cumsum(), '*-',label = randSampleDf.columns)\n",
    "plt.legend()\n",
    "plt.xlabel('Number')\n",
    "plt.ylabel('Cumulative Sum')"
   ]
  },
  {
   "cell_type": "code",
   "execution_count": 15,
   "id": "87304074",
   "metadata": {},
   "outputs": [
    {
     "data": {
      "image/png": "[encoded data removed]",
      "text/plain": [
       "<Figure size 432x288 with 1 Axes>"
      ]
     },
     "metadata": {
      "needs_background": "light"
     },
     "output_type": "display_data"
    }
   ],
   "source": [
    "import matplotlib.pyplot as plt\n",
    "import numpy as np\n",
    "\n",
    "randSampleDf = pd.DataFrame(np.random.rand(5,3), columns = ['Column %d'%i for i in range(1,4)])\n",
    "plt.bar(randSampleDf.columns,randSampleDf.sum(), width=0.5)\n",
    "\n",
    "for i,val in enumerate(randSampleDf.sum()):\n",
    "    plt.text(i,val+0.03,'%.2f'%val, ha='center')\n",
    "    \n",
    "plt.ylim([0,4])\n",
    "plt.title('Sum of randomly generated 3 columns')\n",
    "plt.show()"
   ]
  },
  {
   "cell_type": "markdown",
   "id": "abe708e2",
   "metadata": {},
   "source": [
    "# Problem 6"
   ]
  },
  {
   "cell_type": "code",
   "execution_count": 4,
   "id": "ca939407",
   "metadata": {},
   "outputs": [
    {
     "data": {
      "text/html": [
       "<div>\n",
       "<style scoped>\n",
       "    .dataframe tbody tr th:only-of-type {\n",
       "        vertical-align: middle;\n",
       "    }\n",
       "\n",
       "    .dataframe tbody tr th {\n",
       "        vertical-align: top;\n",
       "    }\n",
       "\n",
       "    .dataframe thead th {\n",
       "        text-align: right;\n",
       "    }\n",
       "</style>\n",
       "<table border=\"1\" class=\"dataframe\">\n",
       "  <thead>\n",
       "    <tr style=\"text-align: right;\">\n",
       "      <th></th>\n",
       "      <th>Age</th>\n",
       "      <th>Gender</th>\n",
       "    </tr>\n",
       "  </thead>\n",
       "  <tbody>\n",
       "    <tr>\n",
       "      <th>2</th>\n",
       "      <td>30</td>\n",
       "      <td>Male</td>\n",
       "    </tr>\n",
       "    <tr>\n",
       "      <th>0</th>\n",
       "      <td>23</td>\n",
       "      <td>Male</td>\n",
       "    </tr>\n",
       "    <tr>\n",
       "      <th>1</th>\n",
       "      <td>18</td>\n",
       "      <td>Male</td>\n",
       "    </tr>\n",
       "    <tr>\n",
       "      <th>3</th>\n",
       "      <td>20</td>\n",
       "      <td>Female</td>\n",
       "    </tr>\n",
       "    <tr>\n",
       "      <th>4</th>\n",
       "      <td>45</td>\n",
       "      <td>Female</td>\n",
       "    </tr>\n",
       "  </tbody>\n",
       "</table>\n",
       "</div>"
      ],
      "text/plain": [
       "   Age  Gender\n",
       "2   30    Male\n",
       "0   23    Male\n",
       "1   18    Male\n",
       "3   20  Female\n",
       "4   45  Female"
      ]
     },
     "execution_count": 4,
     "metadata": {},
     "output_type": "execute_result"
    }
   ],
   "source": [
    "df = pd.DataFrame({'Name': 'Alex Tom Steve Clarke Sarah'.split(),\n",
    "                   'Age': [23, 18, 30, 20, 45],\n",
    "                   'weight': [151, 140, 180, 124, 120],\n",
    "                   'Gender': ['Male'] * 3 + ['Female'] * 2})\n",
    "\n",
    "ages = df.sort_values(by = 'weight', ascending=False)[['Age','Gender']]\n",
    "ages"
   ]
  },
  {
   "cell_type": "markdown",
   "id": "1993f666",
   "metadata": {},
   "source": [
    "# Problem 7"
   ]
  },
  {
   "cell_type": "code",
   "execution_count": 5,
   "id": "80518382",
   "metadata": {},
   "outputs": [
    {
     "data": {
      "text/html": [
       "<div>\n",
       "<style scoped>\n",
       "    .dataframe tbody tr th:only-of-type {\n",
       "        vertical-align: middle;\n",
       "    }\n",
       "\n",
       "    .dataframe tbody tr th {\n",
       "        vertical-align: top;\n",
       "    }\n",
       "\n",
       "    .dataframe thead th {\n",
       "        text-align: right;\n",
       "    }\n",
       "</style>\n",
       "<table border=\"1\" class=\"dataframe\">\n",
       "  <thead>\n",
       "    <tr style=\"text-align: right;\">\n",
       "      <th></th>\n",
       "      <th>Name</th>\n",
       "      <th>Age</th>\n",
       "      <th>weight</th>\n",
       "      <th>Gender</th>\n",
       "    </tr>\n",
       "  </thead>\n",
       "  <tbody>\n",
       "    <tr>\n",
       "      <th>0</th>\n",
       "      <td>Alex</td>\n",
       "      <td>23</td>\n",
       "      <td>143</td>\n",
       "      <td>Male</td>\n",
       "    </tr>\n",
       "    <tr>\n",
       "      <th>1</th>\n",
       "      <td>Tom</td>\n",
       "      <td>18</td>\n",
       "      <td>140</td>\n",
       "      <td>Male</td>\n",
       "    </tr>\n",
       "    <tr>\n",
       "      <th>2</th>\n",
       "      <td>Steve</td>\n",
       "      <td>30</td>\n",
       "      <td>143</td>\n",
       "      <td>Male</td>\n",
       "    </tr>\n",
       "    <tr>\n",
       "      <th>3</th>\n",
       "      <td>Clarke</td>\n",
       "      <td>20</td>\n",
       "      <td>124</td>\n",
       "      <td>Female</td>\n",
       "    </tr>\n",
       "    <tr>\n",
       "      <th>4</th>\n",
       "      <td>Sarah</td>\n",
       "      <td>45</td>\n",
       "      <td>120</td>\n",
       "      <td>Female</td>\n",
       "    </tr>\n",
       "  </tbody>\n",
       "</table>\n",
       "</div>"
      ],
      "text/plain": [
       "     Name  Age  weight  Gender\n",
       "0    Alex   23     143    Male\n",
       "1     Tom   18     140    Male\n",
       "2   Steve   30     143    Male\n",
       "3  Clarke   20     124  Female\n",
       "4   Sarah   45     120  Female"
      ]
     },
     "execution_count": 5,
     "metadata": {},
     "output_type": "execute_result"
    }
   ],
   "source": [
    "meanWeight = df.describe()['weight'].loc['mean']\n",
    "df.loc[df['weight'] > 150, 'weight'] = meanWeight\n",
    "df"
   ]
  },
  {
   "cell_type": "markdown",
   "id": "467a9abc",
   "metadata": {},
   "source": [
    "# Problem 8"
   ]
  },
  {
   "cell_type": "code",
   "execution_count": 6,
   "id": "4b801342",
   "metadata": {},
   "outputs": [
    {
     "data": {
      "text/html": [
       "<div>\n",
       "<style scoped>\n",
       "    .dataframe tbody tr th:only-of-type {\n",
       "        vertical-align: middle;\n",
       "    }\n",
       "\n",
       "    .dataframe tbody tr th {\n",
       "        vertical-align: top;\n",
       "    }\n",
       "\n",
       "    .dataframe thead th {\n",
       "        text-align: right;\n",
       "    }\n",
       "</style>\n",
       "<table border=\"1\" class=\"dataframe\">\n",
       "  <thead>\n",
       "    <tr style=\"text-align: right;\">\n",
       "      <th></th>\n",
       "      <th>Animal</th>\n",
       "      <th>weight</th>\n",
       "      <th>count_Animal</th>\n",
       "      <th>count_weight</th>\n",
       "    </tr>\n",
       "  </thead>\n",
       "  <tbody>\n",
       "    <tr>\n",
       "      <th>0</th>\n",
       "      <td>cat</td>\n",
       "      <td>8</td>\n",
       "      <td>1</td>\n",
       "      <td>1</td>\n",
       "    </tr>\n",
       "    <tr>\n",
       "      <th>1</th>\n",
       "      <td>dog</td>\n",
       "      <td>10</td>\n",
       "      <td>3</td>\n",
       "      <td>1</td>\n",
       "    </tr>\n",
       "    <tr>\n",
       "      <th>2</th>\n",
       "      <td>dog</td>\n",
       "      <td>12</td>\n",
       "      <td>3</td>\n",
       "      <td>1</td>\n",
       "    </tr>\n",
       "    <tr>\n",
       "      <th>3</th>\n",
       "      <td>dog</td>\n",
       "      <td>11</td>\n",
       "      <td>3</td>\n",
       "      <td>1</td>\n",
       "    </tr>\n",
       "    <tr>\n",
       "      <th>4</th>\n",
       "      <td>fish</td>\n",
       "      <td>2</td>\n",
       "      <td>1</td>\n",
       "      <td>1</td>\n",
       "    </tr>\n",
       "  </tbody>\n",
       "</table>\n",
       "</div>"
      ],
      "text/plain": [
       "  Animal  weight  count_Animal  count_weight\n",
       "0    cat       8             1             1\n",
       "1    dog      10             3             1\n",
       "2    dog      12             3             1\n",
       "3    dog      11             3             1\n",
       "4   fish       2             1             1"
      ]
     },
     "execution_count": 6,
     "metadata": {},
     "output_type": "execute_result"
    }
   ],
   "source": [
    "df = pd.DataFrame({'Animal': 'cat dog dog dog fish'.split(),\n",
    "                   'weight': [8, 10, 12, 11, 2]})\n",
    "\n",
    "for col in df.columns:\n",
    "    df['count_'+col] = df[col].map(df[col].value_counts())\n",
    "\n",
    "df"
   ]
  }
 ],
 "metadata": {
  "kernelspec": {
   "display_name": "Python 3 (ipykernel)",
   "language": "python",
   "name": "python3"
  },
  "language_info": {
   "codemirror_mode": {
    "name": "ipython",
    "version": 3
   },
   "file_extension": ".py",
   "mimetype": "text/x-python",
   "name": "python",
   "nbconvert_exporter": "python",
   "pygments_lexer": "ipython3",
   "version": "3.9.7"
  }
 },
 "nbformat": 4,
 "nbformat_minor": 5
}
